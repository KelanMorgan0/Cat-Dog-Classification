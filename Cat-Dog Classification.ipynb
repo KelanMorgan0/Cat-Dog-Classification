{
 "cells": [
  {
   "metadata": {},
   "cell_type": "markdown",
   "source": [
    "# Cat-Dog Classification\n",
    "\n",
    "data received from [Kaggle Cats and Dogs Dataset](https://www.microsoft.com/en-us/download/details.aspx?id=54765)\n",
    "\n",
    "# Imports"
   ],
   "id": "98f5c9a389741f94"
  },
  {
   "metadata": {
    "collapsed": true,
    "ExecuteTime": {
     "end_time": "2025-03-21T21:06:44.612870Z",
     "start_time": "2025-03-21T21:06:28.294651Z"
    }
   },
   "cell_type": "code",
   "source": [
    "import os\n",
    "from PIL import Image\n",
    "import numpy as np"
   ],
   "id": "initial_id",
   "outputs": [],
   "execution_count": 1
  },
  {
   "metadata": {},
   "cell_type": "markdown",
   "source": "# Take in the images and label them dog and cat",
   "id": "aa67c30e2c955701"
  },
  {
   "metadata": {
    "ExecuteTime": {
     "end_time": "2025-03-21T21:30:14.734850Z",
     "start_time": "2025-03-21T21:27:49.706428Z"
    }
   },
   "cell_type": "code",
   "source": [
    "X = []\n",
    "y = []\n",
    "\n",
    "# load all dog data\n",
    "for img_name in os.listdir(\"Data/Dog\"):\n",
    "    img_path = os.path.join(\"Data/Dog\", img_name)\n",
    "\n",
    "    #re-size images to 64 by 64\n",
    "    img = Image.open(img_path).resize((64, 64))\n",
    "    img = np.array(img) / 255.0\n",
    "\n",
    "    # add images to arrays\n",
    "    X.append(img)\n",
    "    y.append(\"Dog\")\n",
    "\n",
    "# load all cat data\n",
    "for img_name in os.listdir(\"Data/Cat\"):\n",
    "    img_path = os.path.join(\"Data/Cat\", img_name)\n",
    "\n",
    "    #re-size images to 64 by 64\n",
    "    img = Image.open(img_path).resize((64, 64))\n",
    "    img = np.array(img) / 255.0\n",
    "\n",
    "    # add images to arrays\n",
    "    X.append(img)\n",
    "    y.append(\"cat\")"
   ],
   "id": "da62ed9e3c352950",
   "outputs": [],
   "execution_count": 6
  }
 ],
 "metadata": {
  "kernelspec": {
   "display_name": "Python 3",
   "language": "python",
   "name": "python3"
  },
  "language_info": {
   "codemirror_mode": {
    "name": "ipython",
    "version": 2
   },
   "file_extension": ".py",
   "mimetype": "text/x-python",
   "name": "python",
   "nbconvert_exporter": "python",
   "pygments_lexer": "ipython2",
   "version": "2.7.6"
  }
 },
 "nbformat": 4,
 "nbformat_minor": 5
}
