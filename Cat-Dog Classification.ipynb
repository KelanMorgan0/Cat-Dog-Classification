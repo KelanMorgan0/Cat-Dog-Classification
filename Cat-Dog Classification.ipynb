{
 "cells": [
  {
   "metadata": {},
   "cell_type": "markdown",
   "source": [
    "# Cat-Dog Classification\n",
    "\n",
    "data received from [Kaggle Cats and Dogs Dataset](https://www.microsoft.com/en-us/download/details.aspx?id=54765)\n",
    "\n",
    "# Imports"
   ],
   "id": "98f5c9a389741f94"
  },
  {
   "metadata": {
    "collapsed": true,
    "ExecuteTime": {
     "end_time": "2025-03-27T09:26:54.694809Z",
     "start_time": "2025-03-27T09:26:38.429935Z"
    }
   },
   "cell_type": "code",
   "source": [
    "import os\n",
    "from PIL import Image\n",
    "import numpy as np\n",
    "import tensorflow as tf\n",
    "from tensorflow.keras.models import Sequential\n",
    "from tensorflow.keras.layers import Conv2D, MaxPooling2D, Flatten, Dense, Dropout\n",
    "from sklearn.model_selection import train_test_split\n",
    "from sklearn.preprocessing import LabelEncoder\n",
    "import matplotlib.pyplot as plt"
   ],
   "id": "initial_id",
   "outputs": [],
   "execution_count": 4
  },
  {
   "metadata": {
    "ExecuteTime": {
     "end_time": "2025-03-27T09:26:54.712866Z",
     "start_time": "2025-03-27T09:26:54.704818Z"
    }
   },
   "cell_type": "code",
   "source": "print(tf.__version__)",
   "id": "4809b0c0bbad1136",
   "outputs": [
    {
     "name": "stdout",
     "output_type": "stream",
     "text": [
      "2.19.0\n"
     ]
    }
   ],
   "execution_count": 5
  },
  {
   "metadata": {},
   "cell_type": "markdown",
   "source": "# Take in the images and label them dog and cat",
   "id": "aa67c30e2c955701"
  },
  {
   "metadata": {
    "ExecuteTime": {
     "end_time": "2025-03-27T09:30:26.832097Z",
     "start_time": "2025-03-27T09:26:54.786225Z"
    }
   },
   "cell_type": "code",
   "source": [
    "X = []\n",
    "y = []\n",
    "\n",
    "# load all dog data\n",
    "for img_name in os.listdir(\"Data/Dog\"):\n",
    "    img_path = os.path.join(\"Data/Dog\", img_name)\n",
    "\n",
    "    #re-size images to 64 by 64\n",
    "    img = Image.open(img_path).convert(\"RGB\").resize((64, 64))\n",
    "    img = np.array(img) / 255.0\n",
    "\n",
    "    # add images to arrays\n",
    "    X.append(img)\n",
    "    y.append(\"Dog\")\n",
    "\n",
    "# load all cat data\n",
    "for img_name in os.listdir(\"Data/Cat\"):\n",
    "    img_path = os.path.join(\"Data/Cat\", img_name)\n",
    "\n",
    "    #re-size images to 64 by 64\n",
    "    img = Image.open(img_path).convert(\"RGB\").resize((64, 64))\n",
    "    img = np.array(img) / 255.0\n",
    "\n",
    "    # add images to arrays\n",
    "    X.append(img)\n",
    "    y.append(\"cat\")\n",
    "\n",
    "X = np.array(X)\n",
    "y = np.array(y)"
   ],
   "id": "da62ed9e3c352950",
   "outputs": [
    {
     "name": "stderr",
     "output_type": "stream",
     "text": [
      "C:\\Users\\kelan\\OneDrive\\Documents\\GitHub\\Cat-Dog-Classification\\venv\\Lib\\site-packages\\PIL\\TiffImagePlugin.py:949: UserWarning: Truncated File Read\n",
      "  warnings.warn(str(msg))\n"
     ]
    }
   ],
   "execution_count": 6
  },
  {
   "metadata": {},
   "cell_type": "markdown",
   "source": "# Encode and split the data into test and training",
   "id": "e5fb97b252b2bf5f"
  },
  {
   "metadata": {
    "ExecuteTime": {
     "end_time": "2025-03-27T09:30:56.087217Z",
     "start_time": "2025-03-27T09:30:27.179267Z"
    }
   },
   "cell_type": "code",
   "source": [
    "X_train, X_test, y_train, y_test = train_test_split(X, y, test_size=0.2)\n",
    "\n",
    "# get validation data\n",
    "X_train, X_val, y_train, y_val = train_test_split(X_train, y_train, test_size=0.2, random_state=42)\n",
    "\n",
    "label_encoder = LabelEncoder()\n",
    "y_train = label_encoder.fit_transform(y_train)\n",
    "y_val = label_encoder.fit_transform(y_val)"
   ],
   "id": "3a294dfa94bd7a86",
   "outputs": [],
   "execution_count": 7
  },
  {
   "metadata": {},
   "cell_type": "markdown",
   "source": "# Create CNN Model",
   "id": "45826077fb06a130"
  },
  {
   "metadata": {
    "ExecuteTime": {
     "end_time": "2025-03-27T09:31:00.373281Z",
     "start_time": "2025-03-27T09:30:56.141788Z"
    }
   },
   "cell_type": "code",
   "source": [
    "# Specify the number of filters and their sizes\n",
    "# Dropout randomly drops half the neurons form the dense call (prevents overfitting)\n",
    "# Dense 1 is classification of cat or dog\n",
    "\n",
    "model = Sequential([\n",
    "    Conv2D(32, (3, 3), activation='relu', input_shape=(64, 64, 3)),\n",
    "    MaxPooling2D((2, 2)),\n",
    "    Conv2D(64, (3, 3), activation='relu'),\n",
    "    MaxPooling2D((2, 2)),\n",
    "    Flatten(),\n",
    "    Dense(128, activation='relu'),\n",
    "    Dropout(0.5),\n",
    "    Dense(1, activation='sigmoid')\n",
    "])\n",
    "\n",
    "model.compile(optimizer='adam', loss='binary_crossentropy', metrics=['accuracy'])"
   ],
   "id": "d184dfd51c29cc8d",
   "outputs": [
    {
     "name": "stderr",
     "output_type": "stream",
     "text": [
      "C:\\Users\\kelan\\OneDrive\\Documents\\GitHub\\Cat-Dog-Classification\\venv\\Lib\\site-packages\\keras\\src\\layers\\convolutional\\base_conv.py:107: UserWarning: Do not pass an `input_shape`/`input_dim` argument to a layer. When using Sequential models, prefer using an `Input(shape)` object as the first layer in the model instead.\n",
      "  super().__init__(activity_regularizer=activity_regularizer, **kwargs)\n"
     ]
    }
   ],
   "execution_count": 8
  },
  {
   "metadata": {},
   "cell_type": "markdown",
   "source": [
    "# Train the model\n",
    "- x_train = image data\n",
    "- y_train = labels\n",
    "- epochs = number of times trained"
   ],
   "id": "7dd59fc391e65fa5"
  },
  {
   "metadata": {
    "ExecuteTime": {
     "end_time": "2025-03-27T09:37:23.475689Z",
     "start_time": "2025-03-27T09:31:01.658094Z"
    }
   },
   "cell_type": "code",
   "source": "history = model.fit(X_train, y_train, epochs=10, batch_size=32, validation_data=(X_val, y_val))",
   "id": "81568f8df46fb842",
   "outputs": [
    {
     "name": "stdout",
     "output_type": "stream",
     "text": [
      "Epoch 1/10\n",
      "\u001B[1m500/500\u001B[0m \u001B[32m━━━━━━━━━━━━━━━━━━━━\u001B[0m\u001B[37m\u001B[0m \u001B[1m55s\u001B[0m 91ms/step - accuracy: 0.5800 - loss: 0.6759 - val_accuracy: 0.6963 - val_loss: 0.5934\n",
      "Epoch 2/10\n",
      "\u001B[1m500/500\u001B[0m \u001B[32m━━━━━━━━━━━━━━━━━━━━\u001B[0m\u001B[37m\u001B[0m \u001B[1m34s\u001B[0m 67ms/step - accuracy: 0.7062 - loss: 0.5688 - val_accuracy: 0.7508 - val_loss: 0.5108\n",
      "Epoch 3/10\n",
      "\u001B[1m500/500\u001B[0m \u001B[32m━━━━━━━━━━━━━━━━━━━━\u001B[0m\u001B[37m\u001B[0m \u001B[1m34s\u001B[0m 68ms/step - accuracy: 0.7601 - loss: 0.4904 - val_accuracy: 0.7473 - val_loss: 0.5110\n",
      "Epoch 4/10\n",
      "\u001B[1m500/500\u001B[0m \u001B[32m━━━━━━━━━━━━━━━━━━━━\u001B[0m\u001B[37m\u001B[0m \u001B[1m32s\u001B[0m 64ms/step - accuracy: 0.7922 - loss: 0.4440 - val_accuracy: 0.7830 - val_loss: 0.4581\n",
      "Epoch 5/10\n",
      "\u001B[1m500/500\u001B[0m \u001B[32m━━━━━━━━━━━━━━━━━━━━\u001B[0m\u001B[37m\u001B[0m \u001B[1m34s\u001B[0m 68ms/step - accuracy: 0.8263 - loss: 0.3829 - val_accuracy: 0.7527 - val_loss: 0.5200\n",
      "Epoch 6/10\n",
      "\u001B[1m500/500\u001B[0m \u001B[32m━━━━━━━━━━━━━━━━━━━━\u001B[0m\u001B[37m\u001B[0m \u001B[1m52s\u001B[0m 104ms/step - accuracy: 0.8467 - loss: 0.3400 - val_accuracy: 0.7742 - val_loss: 0.5017\n",
      "Epoch 7/10\n",
      "\u001B[1m500/500\u001B[0m \u001B[32m━━━━━━━━━━━━━━━━━━━━\u001B[0m\u001B[37m\u001B[0m \u001B[1m35s\u001B[0m 71ms/step - accuracy: 0.8758 - loss: 0.2852 - val_accuracy: 0.7933 - val_loss: 0.4753\n",
      "Epoch 8/10\n",
      "\u001B[1m500/500\u001B[0m \u001B[32m━━━━━━━━━━━━━━━━━━━━\u001B[0m\u001B[37m\u001B[0m \u001B[1m35s\u001B[0m 71ms/step - accuracy: 0.9057 - loss: 0.2301 - val_accuracy: 0.7950 - val_loss: 0.5087\n",
      "Epoch 9/10\n",
      "\u001B[1m500/500\u001B[0m \u001B[32m━━━━━━━━━━━━━━━━━━━━\u001B[0m\u001B[37m\u001B[0m \u001B[1m34s\u001B[0m 69ms/step - accuracy: 0.9191 - loss: 0.1950 - val_accuracy: 0.7870 - val_loss: 0.5717\n",
      "Epoch 10/10\n",
      "\u001B[1m500/500\u001B[0m \u001B[32m━━━━━━━━━━━━━━━━━━━━\u001B[0m\u001B[37m\u001B[0m \u001B[1m33s\u001B[0m 66ms/step - accuracy: 0.9445 - loss: 0.1486 - val_accuracy: 0.7950 - val_loss: 0.5444\n"
     ]
    }
   ],
   "execution_count": 9
  },
  {
   "metadata": {},
   "cell_type": "markdown",
   "source": "# plot a graph to show the accuracy over the epochs",
   "id": "b302ed51a03e1fd9"
  },
  {
   "metadata": {
    "ExecuteTime": {
     "end_time": "2025-03-27T09:37:24.134070Z",
     "start_time": "2025-03-27T09:37:23.566241Z"
    }
   },
   "cell_type": "code",
   "source": [
    "plt.plot(history.history['accuracy'], label='Training Accuracy')\n",
    "plt.plot(history.history['val_accuracy'], label='Validation Accuracy')\n",
    "plt.xlabel('Epochs')\n",
    "plt.ylabel('Accuracy')\n",
    "plt.legend()\n",
    "plt.show()"
   ],
   "id": "9e670c825b3da129",
   "outputs": [
    {
     "data": {
      "text/plain": [
       "<Figure size 640x480 with 1 Axes>"
      ],
      "image/png": "[encoded data removed]"
     },
     "metadata": {},
     "output_type": "display_data"
    }
   ],
   "execution_count": 10
  },
  {
   "metadata": {},
   "cell_type": "markdown",
   "source": "# Function to check new image",
   "id": "240ed9f1baa458e1"
  },
  {
   "metadata": {
    "ExecuteTime": {
     "end_time": "2025-03-27T09:37:24.166574Z",
     "start_time": "2025-03-27T09:37:24.154097Z"
    }
   },
   "cell_type": "code",
   "source": [
    "def predict_image(img_name, model):\n",
    "    img_path = os.path.join(\"Data/UserInput\", img_name)\n",
    "    img = Image.open(img_path).convert(\"RGB\").resize((64, 64))\n",
    "    img = np.array(img) / 255.0\n",
    "    img = np.expand_dims(img, axis=0)\n",
    "    prediction = model.predict(img)\n",
    "    predicted_class = 'dog' if prediction < 0.5 else 'cat'\n",
    "    return predicted_class"
   ],
   "id": "6d9e9c5ea7b4d13b",
   "outputs": [],
   "execution_count": 11
  },
  {
   "metadata": {
    "ExecuteTime": {
     "end_time": "2025-03-27T09:39:31.235305Z",
     "start_time": "2025-03-27T09:39:21.136961Z"
    }
   },
   "cell_type": "code",
   "source": [
    "imageName = 'fiadh.jpg'\n",
    "predicted_class = predict_image(imageName, model)\n",
    "print(f\"Predicted animal type: {predicted_class}\")"
   ],
   "id": "92baffa1cf958724",
   "outputs": [
    {
     "name": "stdout",
     "output_type": "stream",
     "text": [
      "\u001B[1m1/1\u001B[0m \u001B[32m━━━━━━━━━━━━━━━━━━━━\u001B[0m\u001B[37m\u001B[0m \u001B[1m2s\u001B[0m 2s/step   \n",
      "Predicted animal type: dog\n"
     ]
    }
   ],
   "execution_count": 17
  }
 ],
 "metadata": {
  "kernelspec": {
   "display_name": "Python 3",
   "language": "python",
   "name": "python3"
  },
  "language_info": {
   "codemirror_mode": {
    "name": "ipython",
    "version": 2
   },
   "file_extension": ".py",
   "mimetype": "text/x-python",
   "name": "python",
   "nbconvert_exporter": "python",
   "pygments_lexer": "ipython2",
   "version": "2.7.6"
  }
 },
 "nbformat": 4,
 "nbformat_minor": 5
}
